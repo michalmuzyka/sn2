{
 "cells": [
  {
   "cell_type": "code",
   "execution_count": null,
   "metadata": {},
   "outputs": [],
   "source": [
    "import numpy as np\n",
    "from enum import Enum\n",
    "\n",
    "class LearningRule(Enum):\n",
    "    Hebb = 1\n",
    "    Oja = 2,\n",
    "\n",
    "class SimulationType(Enum):\n",
    "    Sync = 1\n",
    "    Async = 2,\n",
    "\n",
    "class HopfieldStructure:\n",
    "    \n",
    "    def __init__(self, neurons) -> None:\n",
    "        self.neurons = neurons\n",
    "        self.initializeWeights()        \n",
    "        \n",
    "        pass\n",
    "    \n",
    "    def initializeWeights(self, neurons):\n",
    "        self.weights = np.array(neurons, neurons)\n",
    "        \n",
    "        pass\n",
    "    \n",
    "class HopfieldNetwork:\n",
    "    \n",
    "    def __init__(self, structure) -> None:\n",
    "        self.structure = structure\n",
    "        \n",
    "        pass\n",
    "    "
   ]
  }
 ],
 "metadata": {
  "language_info": {
   "name": "python"
  }
 },
 "nbformat": 4,
 "nbformat_minor": 2
}
