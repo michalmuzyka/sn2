{
 "cells": [
  {
   "cell_type": "code",
   "execution_count": 6,
   "metadata": {},
   "outputs": [],
   "source": [
    "from PIL import Image\n",
    "import numpy as np\n",
    "\n",
    "\n",
    "def create_set_images(set_data, x, y, path):\n",
    "    \n",
    "    vectors = np.array(set_data)\n",
    "    \n",
    "    pixels = np.zeros((y, (x + 1) * vectors.shape[0], 3)) + 255\n",
    "    \n",
    "    for yi in range(vectors.shape[0]):\n",
    "        for xi in range(vectors.shape[1]):\n",
    "            if vectors[yi, xi] == -1:\n",
    "                pixels[(int)(xi / x), xi % x + yi * (x + 1), :] = 255\n",
    "            else:\n",
    "                pixels[(int)(xi / x), xi % x + yi * (x + 1), :] = 0\n",
    "    \n",
    "    new_image = Image.fromarray(np.array(pixels, dtype=np.uint8))\n",
    "    new_image.save(path)"
   ]
  },
  {
   "cell_type": "code",
   "execution_count": 7,
   "metadata": {},
   "outputs": [],
   "source": [
    "import numpy as np\n",
    "import pandas as pd\n",
    "\n",
    "data = pd.read_csv(\"data/animals-14x9.csv\", sep=\",\", header=None)\n",
    "create_set_images(data, 14, 9, \"animals-14x9.png\")"
   ]
  },
  {
   "cell_type": "code",
   "execution_count": 8,
   "metadata": {},
   "outputs": [],
   "source": [
    "data = pd.read_csv(\"data/large-25x25.csv\", sep=\",\", header=None)\n",
    "create_set_images(data, 25, 25, \"images/large-25x25.png\")"
   ]
  },
  {
   "cell_type": "code",
   "execution_count": 9,
   "metadata": {},
   "outputs": [],
   "source": [
    "data = pd.read_csv(\"data/large-25x25.plus.csv\", sep=\",\", header=None)\n",
    "create_set_images(data, 25, 25, \"images/large-25x25.plus.png\")"
   ]
  },
  {
   "cell_type": "code",
   "execution_count": 10,
   "metadata": {},
   "outputs": [],
   "source": [
    "data = pd.read_csv(\"data/large-25x50.csv\", sep=\",\", header=None)\n",
    "create_set_images(data, 25, 50, \"images/large-25x50.png\")"
   ]
  },
  {
   "cell_type": "code",
   "execution_count": 11,
   "metadata": {},
   "outputs": [],
   "source": [
    "data = pd.read_csv(\"data/letters-14x20.csv\", sep=\",\", header=None)\n",
    "create_set_images(data, 14, 20, \"images/letters-14x20.png\")"
   ]
  },
  {
   "cell_type": "code",
   "execution_count": 12,
   "metadata": {},
   "outputs": [],
   "source": [
    "data = pd.read_csv(\"data/letters-abc-8x12.csv\", sep=\",\", header=None)\n",
    "create_set_images(data, 8, 12, \"images/letters-abc-8x12.png\")"
   ]
  },
  {
   "cell_type": "code",
   "execution_count": 13,
   "metadata": {},
   "outputs": [],
   "source": [
    "data = pd.read_csv(\"data/OCRA-12x30-cut.csv\", sep=\",\", header=None)\n",
    "create_set_images(data, 12, 30, \"images/OCRA-12x30-cut.png\")"
   ]
  },
  {
   "cell_type": "code",
   "execution_count": 14,
   "metadata": {},
   "outputs": [],
   "source": [
    "data = pd.read_csv(\"data/small-7x7.csv\", sep=\",\", header=None)\n",
    "create_set_images(data, 7, 7, \"images/small-7x7.png\")"
   ]
  }
 ],
 "metadata": {
  "kernelspec": {
   "display_name": "Python 3",
   "language": "python",
   "name": "python3"
  },
  "language_info": {
   "codemirror_mode": {
    "name": "ipython",
    "version": 3
   },
   "file_extension": ".py",
   "mimetype": "text/x-python",
   "name": "python",
   "nbconvert_exporter": "python",
   "pygments_lexer": "ipython3",
   "version": "3.12.0"
  }
 },
 "nbformat": 4,
 "nbformat_minor": 2
}
